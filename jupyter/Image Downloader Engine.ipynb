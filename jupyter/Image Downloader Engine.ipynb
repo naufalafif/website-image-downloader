{
 "cells": [
  {
   "cell_type": "code",
   "execution_count": 32,
   "metadata": {},
   "outputs": [
    {
     "data": {
      "text/plain": [
       "['/images/branding/googlelogo/1x/googlelogo_white_background_color_272x92dp.png',\n",
       " '/textinputassistant/tia.png']"
      ]
     },
     "execution_count": 32,
     "metadata": {},
     "output_type": "execute_result"
    }
   ],
   "source": [
    "import requests\n",
    "from lxml import html\n",
    "import validators\n",
    "\n",
    "PATH_UNIVERSAL_IMAGE = '//img/@src'\n",
    "REQUESTS_TIMEOUT = 2\n",
    "MAX_TRY = 3\n",
    "\n",
    "def extractImageUrls(url,request_try=1):\n",
    "    if not validators.url(url):\n",
    "        raise Exception('Url Invalid')\n",
    "    \n",
    "    if request_try == MAX_TRY:\n",
    "        raise Exception('You Have Reach The Maximum Request')\n",
    "    try:\n",
    "        response = requests.get(url, timeout=REQUESTS_TIMEOUT)\n",
    "    except requests.exceptions.RequestException as e:\n",
    "        print('Url Request Failed', e)\n",
    "        extractImageUrls(url, request_try + 1)\n",
    "    \n",
    "    if response.status_code != 200:\n",
    "        raise Exception('Url Requests Failed, Invalid Code ',url)\n",
    "    response_in_html = html.fromstring(response.text)\n",
    "    image_list = response_in_html.xpath(PATH_UNIVERSAL_IMAGE)\n",
    "    \n",
    "    return image_list\n",
    "\n",
    "extractImageUrls('http://www.google.com')\n",
    "\n",
    "\n"
   ]
  },
  {
   "cell_type": "code",
   "execution_count": null,
   "metadata": {},
   "outputs": [],
   "source": [
    "# Crawl Entire Domain\n",
    "# Css Scrap\n",
    "# Robot Translator\n",
    "# Force, Ignore Robot Rule\n",
    "# Proxy"
   ]
  }
 ],
 "metadata": {
  "kernelspec": {
   "display_name": "Python 3",
   "language": "python",
   "name": "python3"
  },
  "language_info": {
   "codemirror_mode": {
    "name": "ipython",
    "version": 3
   },
   "file_extension": ".py",
   "mimetype": "text/x-python",
   "name": "python",
   "nbconvert_exporter": "python",
   "pygments_lexer": "ipython3",
   "version": "3.6.8"
  }
 },
 "nbformat": 4,
 "nbformat_minor": 2
}
